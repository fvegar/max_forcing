{
 "cells": [
  {
   "cell_type": "code",
   "execution_count": 1,
   "metadata": {
    "collapsed": false,
    "jupyter": {
     "outputs_hidden": false
    }
   },
   "outputs": [],
   "source": [
    "import numpy as np\n",
    "import matplotlib.pyplot as plt\n",
    "from scipy import optimize\n",
    "%matplotlib inline"
   ]
  },
  {
   "cell_type": "code",
   "execution_count": 60,
   "metadata": {
    "collapsed": false,
    "jupyter": {
     "outputs_hidden": false
    }
   },
   "outputs": [],
   "source": [
    "# El desplazamiento maximo Amax (en mm) para el modelo V406 de Bruel y Kjaer viene dado\n",
    "# la relacion de abajo\n",
    "# m: masa que se tiene que vibrar (en kg)\n",
    "def Amax(m):\n",
    "    return (0.5*(8.8-2*m*9.8/12.3))\n",
    "\n",
    "# Gmax es la aceleracion maxima que se puede alcanzar con una masa m sobre el V406 es\n",
    "# en unidades de g, G(Amax(m),f), tal como se define abajo,\n",
    "# donde en general Gamma = 4 pi A f**2 /g es la aceleracion en unidades de g, dadas \n",
    "# una amplitud A y una frecuencia f de vibracion\n",
    "\n",
    "def G(A, f):\n",
    "    G = 10\n",
    "    G1 = 1.e-3 * A* (2*np.pi*f)**2 / 9.8 \n",
    "    if (G1 < G):\n",
    "        # regimen limitado por amplitud (baja frecuencia)\n",
    "        G = G1\n",
    "        AM = A\n",
    "    else:\n",
    "        # regimen limitado por potencia (aceleración; a alta frecuencia)\n",
    "        G = 10\n",
    "        AM = 1.e3 * G * 9.8 / (2* np.pi * f)**2\n",
    "    return AM, G"
   ]
  },
  {
   "cell_type": "code",
   "execution_count": 186,
   "metadata": {},
   "outputs": [],
   "source": [
    "flim = 9000 * 2\n",
    "max_forcing = np.array([[i*0.5, G(Amax(2), i*0.5)[0], G(Amax(2), i*0.5)[1]] for i in range(flim+1)]) .T"
   ]
  },
  {
   "cell_type": "code",
   "execution_count": 191,
   "metadata": {},
   "outputs": [
    {
     "name": "stdout",
     "output_type": "stream",
     "text": [
      "Paso a regimen de alta frecuencia en :  30.0  Hz\n"
     ]
    },
    {
     "data": {
      "image/png": "[encoded data removed]",
      "text/plain": [
       "<Figure size 432x288 with 1 Axes>"
      ]
     },
     "metadata": {
      "needs_background": "light"
     },
     "output_type": "display_data"
    }
   ],
   "source": [
    "plt.xscale('log')\n",
    "plt.ylim(-0.5,12)\n",
    "plt.plot( max_forcing[0], max_forcing[2], color='b')\n",
    "print ( 'Paso a regimen de alta frecuencia en : ', \n",
    "       max_forcing[0][np.where(max_forcing[2]>=10)[0][0]], ' Hz')"
   ]
  },
  {
   "cell_type": "code",
   "execution_count": 218,
   "metadata": {},
   "outputs": [],
   "source": [
    "# Escribir resultados a archivo\n",
    "with open('max_forcing.dat', 'w+') as archivo:\n",
    "    archivo.write('# \\tf \\t A \\t\\t G \\n')\n",
    "    for i in range(len(max_forcing.T)):\n",
    "        archivo.write('{0:10.1f} {1:14.10f} {2:10.3f}\\n'.format( max_forcing.T[i][0], max_forcing.T[i][1], max_forcing.T[i][2]) )\n",
    "archivo.close()"
   ]
  },
  {
   "cell_type": "code",
   "execution_count": 3,
   "metadata": {
    "collapsed": false,
    "jupyter": {
     "outputs_hidden": false
    }
   },
   "outputs": [
    {
     "data": {
      "text/plain": [
       "<matplotlib.lines.Line2D at 0x7f10f09a00b8>"
      ]
     },
     "execution_count": 3,
     "metadata": {},
     "output_type": "execute_result"
    },
    {
     "data": {
      "image/png": "[encoded data removed]",
      "text/plain": [
       "<Figure size 432x288 with 1 Axes>"
      ]
     },
     "metadata": {
      "needs_background": "light"
     },
     "output_type": "display_data"
    }
   ],
   "source": [
    "# GRAFICA del decrecimiento de la amplitud maxima al aumentar la carga (m, en kg)\n",
    "\n",
    "plt.axis('on')\n",
    "plt.xlabel(r'$m$',fontsize=14)\n",
    "plt.ylabel(r'$A_{max}$',fontsize=14)\n",
    "plt.plot(np.arange(0,10,0.1),Amax(np.arange(0,10,0.1)),color='b')\n",
    "plt.axhline(y=0, color='k',linewidth=1)"
   ]
  },
  {
   "cell_type": "code",
   "execution_count": 83,
   "metadata": {
    "collapsed": false,
    "jupyter": {
     "outputs_hidden": false
    }
   },
   "outputs": [],
   "source": [
    "# Defino la masa limite como la carga a la cual la amplitud maxima efectiva ya es 0\n",
    "mlimite = optimize.root_scalar(Amax,bracket=[0,10],method='brentq')"
   ]
  },
  {
   "cell_type": "code",
   "execution_count": 84,
   "metadata": {
    "collapsed": false,
    "jupyter": {
     "outputs_hidden": false
    }
   },
   "outputs": [
    {
     "data": {
      "text/plain": [
       "      converged: True\n",
       "           flag: 'converged'\n",
       " function_calls: 3\n",
       "     iterations: 2\n",
       "           root: 5.522448979591838"
      ]
     },
     "execution_count": 84,
     "metadata": {},
     "output_type": "execute_result"
    }
   ],
   "source": [
    "mlimite"
   ]
  },
  {
   "cell_type": "code",
   "execution_count": 122,
   "metadata": {
    "collapsed": false,
    "jupyter": {
     "outputs_hidden": false
    }
   },
   "outputs": [
    {
     "data": {
      "text/plain": [
       "5.52"
      ]
     },
     "execution_count": 122,
     "metadata": {},
     "output_type": "execute_result"
    }
   ],
   "source": [
    "# Valor numerico de la masa limite (kg)\n",
    "round(mlimite.root,2)"
   ]
  },
  {
   "cell_type": "code",
   "execution_count": 162,
   "metadata": {
    "collapsed": false,
    "jupyter": {
     "outputs_hidden": false
    }
   },
   "outputs": [
    {
     "data": {
      "text/plain": [
       "<matplotlib.lines.Line2D at 0x7f1d3cdbb8d0>"
      ]
     },
     "execution_count": 162,
     "metadata": {},
     "output_type": "execute_result"
    },
    {
     "data": {
      "image/png": "[encoded data removed]",
      "text/plain": [
       "<matplotlib.figure.Figure at 0x7f1d3cdbb400>"
      ]
     },
     "metadata": {},
     "output_type": "display_data"
    }
   ],
   "source": [
    "# GRAFICA de la aceleracion maxima para 99% masa limite en funcion de frecuencia f (Hz)\n",
    "plt.title('m= '+str(round(0.99*mlimite.root,2))+' kg  (99 % m_limite)')\n",
    "plt.axis('on')\n",
    "plt.xlabel(r'$f$',fontsize=14)\n",
    "plt.ylabel(r'$\\Gamma_{max}$',fontsize=14)\n",
    "plt.plot(np.arange(20,50,0.1), G(Amax(0.99*mlimite.root),np.arange(20,50,0.1)),color='b')\n",
    "plt.axhline(y=0, color='k',linewidth=1)"
   ]
  },
  {
   "cell_type": "code",
   "execution_count": 161,
   "metadata": {
    "collapsed": false,
    "jupyter": {
     "outputs_hidden": false
    }
   },
   "outputs": [
    {
     "data": {
      "text/plain": [
       "[<matplotlib.lines.Line2D at 0x7f1d3cd99ac8>]"
      ]
     },
     "execution_count": 161,
     "metadata": {},
     "output_type": "execute_result"
    },
    {
     "data": {
      "image/png": "[encoded data removed]",
      "text/plain": [
       "<matplotlib.figure.Figure at 0x7f1d3cf5cf98>"
      ]
     },
     "metadata": {},
     "output_type": "display_data"
    }
   ],
   "source": [
    "# GRAFICA de la aceleracion maxima para 80% masa limite en funcion de frecuencia f (Hz)\n",
    "plt.title('m= '+str(round(0.80*mlimite.root,2))+' kg  (80 % m_limite)')\n",
    "plt.axis('on')\n",
    "plt.xlabel(r'$f$',fontsize=14)\n",
    "plt.ylabel(r'$\\Gamma_{max}$',fontsize=14)\n",
    "plt.plot(np.arange(20,50,0.1), G(Amax(0.8*mlimite.root),np.arange(20,50,0.1)),color='b')\n"
   ]
  },
  {
   "cell_type": "code",
   "execution_count": 160,
   "metadata": {
    "collapsed": false,
    "jupyter": {
     "outputs_hidden": false
    }
   },
   "outputs": [
    {
     "data": {
      "text/plain": [
       "[<matplotlib.lines.Line2D at 0x7f1d3ce2e0f0>]"
      ]
     },
     "execution_count": 160,
     "metadata": {},
     "output_type": "execute_result"
    },
    {
     "data": {
      "image/png": "[encoded data removed]",
      "text/plain": [
       "<matplotlib.figure.Figure at 0x7f1d3cfcdc88>"
      ]
     },
     "metadata": {},
     "output_type": "display_data"
    }
   ],
   "source": [
    "# GRAFICA de la aceleracion maxima para 64 % masa limite en funcion de frecuencia f (Hz)\n",
    "plt.title('m= '+str(round(0.64*mlimite.root,2))+' kg  (64 % m_limite)')\n",
    "plt.axis('on')\n",
    "plt.xlabel(r'$f$',fontsize=14)\n",
    "plt.ylabel(r'$\\Gamma_{max}$',fontsize=14)\n",
    "plt.plot(np.arange(20,50,0.1), G(Amax(0.64*mlimite.root),np.arange(20,50,0.1)),color='b')\n"
   ]
  }
 ],
 "metadata": {
  "kernelspec": {
   "display_name": "Python 3",
   "language": "python",
   "name": "python3"
  },
  "language_info": {
   "codemirror_mode": {
    "name": "ipython",
    "version": 3
   },
   "file_extension": ".py",
   "mimetype": "text/x-python",
   "name": "python",
   "nbconvert_exporter": "python",
   "pygments_lexer": "ipython3",
   "version": "3.7.3"
  }
 },
 "nbformat": 4,
 "nbformat_minor": 4
}
